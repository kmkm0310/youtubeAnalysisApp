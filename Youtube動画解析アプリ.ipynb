{
 "cells": [
  {
   "cell_type": "code",
   "execution_count": 1,
   "id": "09626c42-23cc-4756-b2b0-3c5fe06d34d3",
   "metadata": {
    "collapsed": true,
    "jupyter": {
     "outputs_hidden": true
    },
    "tags": []
   },
   "outputs": [
    {
     "name": "stdout",
     "output_type": "stream",
     "text": [
      "Looking in indexes: https://pypi.org/simple, https://pypi.ngc.nvidia.com\n",
      "Collecting google-api-python-client\n",
      "  Downloading google_api_python_client-2.66.0-py2.py3-none-any.whl (10.5 MB)\n",
      "     --------------------------------------- 10.5/10.5 MB 29.7 MB/s eta 0:00:00\n",
      "Collecting httplib2<1dev,>=0.15.0\n",
      "  Downloading httplib2-0.21.0-py3-none-any.whl (96 kB)\n",
      "     ---------------------------------------- 96.8/96.8 kB ? eta 0:00:00\n",
      "Collecting google-auth-httplib2>=0.1.0\n",
      "  Downloading google_auth_httplib2-0.1.0-py2.py3-none-any.whl (9.3 kB)\n",
      "Collecting uritemplate<5,>=3.0.1\n",
      "  Downloading uritemplate-4.1.1-py2.py3-none-any.whl (10 kB)\n",
      "Collecting google-api-core!=2.0.*,!=2.1.*,!=2.2.*,!=2.3.0,<3.0.0dev,>=1.31.5\n",
      "  Downloading google_api_core-2.10.2-py3-none-any.whl (115 kB)\n",
      "     -------------------------------------- 115.6/115.6 kB 6.6 MB/s eta 0:00:00\n",
      "Collecting google-auth<3.0.0dev,>=1.19.0\n",
      "  Downloading google_auth-2.14.1-py2.py3-none-any.whl (175 kB)\n",
      "     ---------------------------------------- 175.4/175.4 kB ? eta 0:00:00\n",
      "Requirement already satisfied: protobuf!=3.20.0,!=3.20.1,!=4.21.0,!=4.21.1,!=4.21.2,!=4.21.3,!=4.21.4,!=4.21.5,<5.0.0dev,>=3.19.5 in c:\\users\\adamr\\documents\\web_app_streamlit\\youtube動画解析アプリ\\env\\lib\\site-packages (from google-api-core!=2.0.*,!=2.1.*,!=2.2.*,!=2.3.0,<3.0.0dev,>=1.31.5->google-api-python-client) (3.20.3)\n",
      "Collecting googleapis-common-protos<2.0dev,>=1.56.2\n",
      "  Downloading googleapis_common_protos-1.57.0-py2.py3-none-any.whl (217 kB)\n",
      "     ------------------------------------- 218.0/218.0 kB 13.9 MB/s eta 0:00:00\n",
      "Requirement already satisfied: requests<3.0.0dev,>=2.18.0 in c:\\users\\adamr\\documents\\web_app_streamlit\\youtube動画解析アプリ\\env\\lib\\site-packages (from google-api-core!=2.0.*,!=2.1.*,!=2.2.*,!=2.3.0,<3.0.0dev,>=1.31.5->google-api-python-client) (2.28.1)\n",
      "Requirement already satisfied: cachetools<6.0,>=2.0.0 in c:\\users\\adamr\\documents\\web_app_streamlit\\youtube動画解析アプリ\\env\\lib\\site-packages (from google-auth<3.0.0dev,>=1.19.0->google-api-python-client) (5.2.0)\n",
      "Collecting pyasn1-modules>=0.2.1\n",
      "  Downloading pyasn1_modules-0.2.8-py2.py3-none-any.whl (155 kB)\n",
      "     ---------------------------------------- 155.3/155.3 kB ? eta 0:00:00\n",
      "Collecting rsa<5,>=3.1.4\n",
      "  Downloading rsa-4.9-py3-none-any.whl (34 kB)\n",
      "Requirement already satisfied: six>=1.9.0 in c:\\users\\adamr\\documents\\web_app_streamlit\\youtube動画解析アプリ\\env\\lib\\site-packages (from google-auth<3.0.0dev,>=1.19.0->google-api-python-client) (1.16.0)\n",
      "Requirement already satisfied: pyparsing!=3.0.0,!=3.0.1,!=3.0.2,!=3.0.3,<4,>=2.4.2 in c:\\users\\adamr\\documents\\web_app_streamlit\\youtube動画解析アプリ\\env\\lib\\site-packages (from httplib2<1dev,>=0.15.0->google-api-python-client) (3.0.9)\n",
      "Collecting pyasn1<0.5.0,>=0.4.6\n",
      "  Downloading pyasn1-0.4.8-py2.py3-none-any.whl (77 kB)\n",
      "     ---------------------------------------- 77.1/77.1 kB ? eta 0:00:00\n",
      "Requirement already satisfied: charset-normalizer<3,>=2 in c:\\users\\adamr\\documents\\web_app_streamlit\\youtube動画解析アプリ\\env\\lib\\site-packages (from requests<3.0.0dev,>=2.18.0->google-api-core!=2.0.*,!=2.1.*,!=2.2.*,!=2.3.0,<3.0.0dev,>=1.31.5->google-api-python-client) (2.1.1)\n",
      "Requirement already satisfied: idna<4,>=2.5 in c:\\users\\adamr\\documents\\web_app_streamlit\\youtube動画解析アプリ\\env\\lib\\site-packages (from requests<3.0.0dev,>=2.18.0->google-api-core!=2.0.*,!=2.1.*,!=2.2.*,!=2.3.0,<3.0.0dev,>=1.31.5->google-api-python-client) (3.4)\n",
      "Requirement already satisfied: certifi>=2017.4.17 in c:\\users\\adamr\\documents\\web_app_streamlit\\youtube動画解析アプリ\\env\\lib\\site-packages (from requests<3.0.0dev,>=2.18.0->google-api-core!=2.0.*,!=2.1.*,!=2.2.*,!=2.3.0,<3.0.0dev,>=1.31.5->google-api-python-client) (2022.9.24)\n",
      "Requirement already satisfied: urllib3<1.27,>=1.21.1 in c:\\users\\adamr\\documents\\web_app_streamlit\\youtube動画解析アプリ\\env\\lib\\site-packages (from requests<3.0.0dev,>=2.18.0->google-api-core!=2.0.*,!=2.1.*,!=2.2.*,!=2.3.0,<3.0.0dev,>=1.31.5->google-api-python-client) (1.26.12)\n",
      "Installing collected packages: pyasn1, uritemplate, rsa, pyasn1-modules, httplib2, googleapis-common-protos, google-auth, google-auth-httplib2, google-api-core, google-api-python-client\n",
      "Successfully installed google-api-core-2.10.2 google-api-python-client-2.66.0 google-auth-2.14.1 google-auth-httplib2-0.1.0 googleapis-common-protos-1.57.0 httplib2-0.21.0 pyasn1-0.4.8 pyasn1-modules-0.2.8 rsa-4.9 uritemplate-4.1.1\n"
     ]
    }
   ],
   "source": [
    "!pip install google-api-python-client"
   ]
  },
  {
   "cell_type": "code",
   "execution_count": 1,
   "id": "9afe5a2a-b745-4368-ae6d-4ebbfd9fd180",
   "metadata": {},
   "outputs": [],
   "source": [
    "from apiclient.discovery import build\n",
    "#from apiclient.errors import HttpError\n",
    "#from oauth2client.tools import argparser"
   ]
  },
  {
   "cell_type": "code",
   "execution_count": 2,
   "id": "41cf79dd-17c7-4577-8f0f-eb3df4a50472",
   "metadata": {},
   "outputs": [],
   "source": [
    "import json\n",
    "with open('secret.json') as f:\n",
    "    secret = json.load(f)"
   ]
  },
  {
   "cell_type": "code",
   "execution_count": 9,
   "id": "1e794f56-02ac-4024-917b-905637da4a53",
   "metadata": {},
   "outputs": [],
   "source": [
    "DEVELOPER_KEY = secret[\"KEY\"]\n",
    "YOUTUBE_API_SERVICE_NAME = \"youtube\"\n",
    "YOUTUBE_API_VERSION = \"v3\"\n",
    "\n",
    "#def youtube_search(options):\n",
    "youtube = build(YOUTUBE_API_SERVICE_NAME, YOUTUBE_API_VERSION,\n",
    "        developerKey=DEVELOPER_KEY)\n",
    "\n",
    "q = 'Python 自動化'\n",
    "max_results = 30\n",
    "\n",
    "response = youtube.search().list(\n",
    "    q=q,\n",
    "    part='id,snippet',\n",
    "    order='viewCount',\n",
    "    type='video',\n",
    "    maxResults=max_results\n",
    ").execute()"
   ]
  },
  {
   "cell_type": "code",
   "execution_count": 3,
   "id": "6e476b13-15a8-4a45-a8ce-5b523f5ebd6e",
   "metadata": {},
   "outputs": [],
   "source": [
    "import pandas as pd"
   ]
  },
  {
   "cell_type": "code",
   "execution_count": 24,
   "id": "591d083a-572c-4418-9436-4368ccae6137",
   "metadata": {},
   "outputs": [
    {
     "data": {
      "text/html": [
       "<div>\n",
       "<style scoped>\n",
       "    .dataframe tbody tr th:only-of-type {\n",
       "        vertical-align: middle;\n",
       "    }\n",
       "\n",
       "    .dataframe tbody tr th {\n",
       "        vertical-align: top;\n",
       "    }\n",
       "\n",
       "    .dataframe thead th {\n",
       "        text-align: right;\n",
       "    }\n",
       "</style>\n",
       "<table border=\"1\" class=\"dataframe\">\n",
       "  <thead>\n",
       "    <tr style=\"text-align: right;\">\n",
       "      <th></th>\n",
       "      <th>video_id</th>\n",
       "      <th>channel_id</th>\n",
       "    </tr>\n",
       "  </thead>\n",
       "  <tbody>\n",
       "    <tr>\n",
       "      <th>0</th>\n",
       "      <td>bsq2YY-XAEo</td>\n",
       "      <td>UC0xRMqPOyRNPTaL6BxhbCnQ</td>\n",
       "    </tr>\n",
       "    <tr>\n",
       "      <th>1</th>\n",
       "      <td>s8XjEuplx_U</td>\n",
       "      <td>UC8butISFwT-Wl7EV0hUK0BQ</td>\n",
       "    </tr>\n",
       "    <tr>\n",
       "      <th>2</th>\n",
       "      <td>-5v7CuXm7Ns</td>\n",
       "      <td>UCGlgXjYVoHLD86TQQ799WIw</td>\n",
       "    </tr>\n",
       "  </tbody>\n",
       "</table>\n",
       "</div>"
      ],
      "text/plain": [
       "      video_id                channel_id\n",
       "0  bsq2YY-XAEo  UC0xRMqPOyRNPTaL6BxhbCnQ\n",
       "1  s8XjEuplx_U  UC8butISFwT-Wl7EV0hUK0BQ\n",
       "2  -5v7CuXm7Ns  UCGlgXjYVoHLD86TQQ799WIw"
      ]
     },
     "execution_count": 24,
     "metadata": {},
     "output_type": "execute_result"
    }
   ],
   "source": [
    "items_id = []\n",
    "items = response['items']\n",
    "for item in items:\n",
    "    item_id = {}\n",
    "    item_id['video_id'] = item['id']['videoId']\n",
    "    item_id['channel_id'] = item['snippet']['channelId']\n",
    "    items_id.append(item_id)\n",
    "df_video = pd.DataFrame(items_id)\n",
    "df_video[:3]"
   ]
  },
  {
   "cell_type": "code",
   "execution_count": 12,
   "id": "3ebbe844-8700-443b-87a2-f17def2f33c6",
   "metadata": {},
   "outputs": [],
   "source": [
    "item = items[0]"
   ]
  },
  {
   "cell_type": "code",
   "execution_count": 13,
   "id": "6260ca6b-f289-4bf2-8e91-d5362ec9dfea",
   "metadata": {},
   "outputs": [
    {
     "data": {
      "text/plain": [
       "{'kind': 'youtube#searchResult',\n",
       " 'etag': 'eINzWSXP4VvYJqMPiFQHxScHDKs',\n",
       " 'id': {'kind': 'youtube#video', 'videoId': 'bsq2YY-XAEo'},\n",
       " 'snippet': {'publishedAt': '2021-04-07T10:00:28Z',\n",
       "  'channelId': 'UC0xRMqPOyRNPTaL6BxhbCnQ',\n",
       "  'title': '【実演】めんどくさい業務をプログラミング（Python）で自動化する過程をお見せします',\n",
       "  'description': 'ビジネス戦闘力が圧倒的に向上するプログラミングスクール 『code4biz』  \\u200d   ↓説明会はこちら↓ http://code4biz.jp/ ※ 締切 ...',\n",
       "  'thumbnails': {'default': {'url': 'https://i.ytimg.com/vi/bsq2YY-XAEo/default.jpg',\n",
       "    'width': 120,\n",
       "    'height': 90},\n",
       "   'medium': {'url': 'https://i.ytimg.com/vi/bsq2YY-XAEo/mqdefault.jpg',\n",
       "    'width': 320,\n",
       "    'height': 180},\n",
       "   'high': {'url': 'https://i.ytimg.com/vi/bsq2YY-XAEo/hqdefault.jpg',\n",
       "    'width': 480,\n",
       "    'height': 360}},\n",
       "  'channelTitle': 'いまにゅのプログラミング塾',\n",
       "  'liveBroadcastContent': 'none',\n",
       "  'publishTime': '2021-04-07T10:00:28Z'}}"
      ]
     },
     "execution_count": 13,
     "metadata": {},
     "output_type": "execute_result"
    }
   ],
   "source": [
    "item"
   ]
  },
  {
   "cell_type": "code",
   "execution_count": 17,
   "id": "7411fe57-445c-4d7a-ab38-5f697e032e54",
   "metadata": {},
   "outputs": [],
   "source": [
    "video_id = item['id']['videoId']"
   ]
  },
  {
   "cell_type": "code",
   "execution_count": 16,
   "id": "8468263e-f1fc-49bf-8641-c705f2e3e54c",
   "metadata": {},
   "outputs": [
    {
     "data": {
      "text/plain": [
       "'UC0xRMqPOyRNPTaL6BxhbCnQ'"
      ]
     },
     "execution_count": 18,
     "metadata": {},
     "output_type": "execute_result"
    }
   ],
   "source": [
    "channel_id = item['snippet']['channelId']"
   ]
  },
  {
   "cell_type": "code",
   "execution_count": null,
   "id": "a4bd297d-26bc-49f4-8801-2f8b9eee6139",
   "metadata": {},
   "outputs": [],
   "source": []
  },
  {
   "cell_type": "code",
   "execution_count": null,
   "id": "fb9ac4ef-1047-4f72-837a-41f9de3b3fe7",
   "metadata": {},
   "outputs": [],
   "source": []
  },
  {
   "cell_type": "code",
   "execution_count": 4,
   "id": "51b683a0-f43e-4f0e-b637-6f35e5177bba",
   "metadata": {
    "tags": []
   },
   "outputs": [],
   "source": [
    "def video_search(youtube, q='自動化', max_results=50):\n",
    "    response = youtube.search().list(\n",
    "        q=q,\n",
    "        part='id,snippet',\n",
    "        order='viewCount',\n",
    "        type='video',\n",
    "        maxResults=max_results\n",
    "    ).execute()\n",
    "\n",
    "    items_id = []\n",
    "    items = response['items']\n",
    "    for item in items:\n",
    "        item_id = {}\n",
    "        item_id['video_id'] = item['id']['videoId']\n",
    "        item_id['channel_id'] = item['snippet']['channelId']\n",
    "        items_id.append(item_id)\n",
    "    df_video = pd.DataFrame(items_id)\n",
    "    return df_video"
   ]
  },
  {
   "cell_type": "code",
   "execution_count": 7,
   "id": "76daac77-29fe-40a7-b941-dff6a990d480",
   "metadata": {
    "tags": []
   },
   "outputs": [],
   "source": [
    "DEVELOPER_KEY = secret[\"KEY\"]\n",
    "YOUTUBE_API_SERVICE_NAME = \"youtube\"\n",
    "YOUTUBE_API_VERSION = \"v3\"\n",
    "\n",
    "youtube = build(YOUTUBE_API_SERVICE_NAME, YOUTUBE_API_VERSION,\n",
    "        developerKey=DEVELOPER_KEY)\n",
    "\n",
    "df_video = video_search(youtube, q = 'Python 自動化', max_results=50)"
   ]
  },
  {
   "cell_type": "code",
   "execution_count": 8,
   "id": "dc4e9e79-6bd7-42aa-a297-4ecf8fa37f94",
   "metadata": {},
   "outputs": [
    {
     "data": {
      "text/plain": [
       "['UC0xRMqPOyRNPTaL6BxhbCnQ',\n",
       " 'UC8butISFwT-Wl7EV0hUK0BQ',\n",
       " 'UCGlgXjYVoHLD86TQQ799WIw']"
      ]
     },
     "execution_count": 8,
     "metadata": {},
     "output_type": "execute_result"
    }
   ],
   "source": [
    "channel_ids = df_video['channel_id'].unique().tolist()\n",
    "channel_ids[:3]"
   ]
  },
  {
   "cell_type": "code",
   "execution_count": 9,
   "id": "778b0554-3ae8-4df7-ad1c-b68cbcd1bdfc",
   "metadata": {
    "collapsed": true,
    "jupyter": {
     "outputs_hidden": true
    },
    "tags": []
   },
   "outputs": [
    {
     "data": {
      "text/plain": [
       "{'items': [{'id': 'UCEq0oQsS-voRnSWbcviIDGA',\n",
       "   'statistics': {'subscriberCount': '8110'}},\n",
       "  {'id': 'UC452hry4DI_pDn_CVT9ZKhQ',\n",
       "   'statistics': {'subscriberCount': '81700'}},\n",
       "  {'id': 'UC5Kgc_HNzx4GJ-w4QMeeKiQ',\n",
       "   'statistics': {'subscriberCount': '42300'}},\n",
       "  {'id': 'UC6M7Qk2It63qD0jhiKgLWZA',\n",
       "   'statistics': {'subscriberCount': '37700'}},\n",
       "  {'id': 'UC8butISFwT-Wl7EV0hUK0BQ',\n",
       "   'statistics': {'subscriberCount': '6760000'}},\n",
       "  {'id': 'UCJHs6RO1CSM85e8jIMmCySw',\n",
       "   'statistics': {'subscriberCount': '79500'}},\n",
       "  {'id': 'UCGFxqqRaM97VjM5ToRfkoFg',\n",
       "   'statistics': {'subscriberCount': '7470'}},\n",
       "  {'id': 'UC0xRMqPOyRNPTaL6BxhbCnQ',\n",
       "   'statistics': {'subscriberCount': '128000'}},\n",
       "  {'id': 'UCGlgXjYVoHLD86TQQ799WIw',\n",
       "   'statistics': {'subscriberCount': '161000'}},\n",
       "  {'id': 'UCkyrFlOF7I6U-IMUxum9HrA',\n",
       "   'statistics': {'subscriberCount': '6350'}},\n",
       "  {'id': 'UCNste53_VRtP6MGUfitOYQA',\n",
       "   'statistics': {'subscriberCount': '6160'}},\n",
       "  {'id': 'UCbXgNpp0jedKWcQiULLbDTA',\n",
       "   'statistics': {'subscriberCount': '207000'}},\n",
       "  {'id': 'UCk-AjDBOodw8P40f0y6EYeA',\n",
       "   'statistics': {'subscriberCount': '93400'}},\n",
       "  {'id': 'UCh9nVJoWXmFb7sLApWGcLPQ',\n",
       "   'statistics': {'subscriberCount': '694000'}},\n",
       "  {'id': 'UC4JX40jDee_tINbkjycV4Sg',\n",
       "   'statistics': {'subscriberCount': '1110000'}},\n",
       "  {'id': 'UCbg0ptFI3yZ4Pe5vmUiEzzA',\n",
       "   'statistics': {'subscriberCount': '7520'}},\n",
       "  {'id': 'UCWr0mx597DnSGLFk1WfvSkQ',\n",
       "   'statistics': {'subscriberCount': '673000'}},\n",
       "  {'id': 'UCHcFAw2lKTuHZ04-2xlaPyQ',\n",
       "   'statistics': {'subscriberCount': '45000'}},\n",
       "  {'id': 'UC1uj19dZQXa17-SqNGpVNLw',\n",
       "   'statistics': {'subscriberCount': '32700'}},\n",
       "  {'id': 'UCZjRcM1ukeciMZ7_fvzsezQ',\n",
       "   'statistics': {'subscriberCount': '38100'}},\n",
       "  {'id': 'UC6OrQk8WsnCOR1OezlUU9zQ',\n",
       "   'statistics': {'subscriberCount': '7540'}},\n",
       "  {'id': 'UCwhKqH0jDKm5vPOZ7WQ2R1A',\n",
       "   'statistics': {'subscriberCount': '69800'}},\n",
       "  {'id': 'UCkw4JCwteGrDHIsyIIKo4tQ',\n",
       "   'statistics': {'subscriberCount': '3610000'}},\n",
       "  {'id': 'UCMMjv61LfBy5J3AT8Ua0NGQ',\n",
       "   'statistics': {'subscriberCount': '145000'}},\n",
       "  {'id': 'UCrZOiJyMbXpZ8T5snCIJaLA',\n",
       "   'statistics': {'subscriberCount': '138000'}},\n",
       "  {'id': 'UCXjTiSGclQLVVU83GVrRM4w',\n",
       "   'statistics': {'subscriberCount': '1530000'}}]}"
      ]
     },
     "execution_count": 9,
     "metadata": {},
     "output_type": "execute_result"
    }
   ],
   "source": [
    "subscriber_list = youtube.channels().list(\n",
    "    id = ','.join(channel_ids),\n",
    "    part='statistics',\n",
    "    fields='items(id,statistics(subscriberCount))'\n",
    ").execute()\n",
    "subscriber_list"
   ]
  },
  {
   "cell_type": "code",
   "execution_count": 10,
   "id": "ac0007d9-cb3c-48b7-b2d5-ef3a5cce7e23",
   "metadata": {},
   "outputs": [],
   "source": [
    "subscribers = []\n",
    "for item in subscriber_list['items']:\n",
    "    subscriber = {}\n",
    "    subscriber['channel_id'] = item['id']\n",
    "    subscriber['subscriber_count'] = int(item['statistics']['subscriberCount'])\n",
    "    subscribers.append(subscriber)\n",
    "df_subscribers = pd.DataFrame(subscribers)"
   ]
  },
  {
   "cell_type": "code",
   "execution_count": 11,
   "id": "8cd35bd4-0e11-4a82-94df-32e5a501578e",
   "metadata": {},
   "outputs": [],
   "source": [
    "df = pd.merge(left=df_video, right=df_subscribers, on='channel_id')"
   ]
  },
  {
   "cell_type": "code",
   "execution_count": 12,
   "id": "90d367c5-4353-4309-a66f-22ab8c4ba153",
   "metadata": {},
   "outputs": [
    {
     "data": {
      "text/html": [
       "<div>\n",
       "<style scoped>\n",
       "    .dataframe tbody tr th:only-of-type {\n",
       "        vertical-align: middle;\n",
       "    }\n",
       "\n",
       "    .dataframe tbody tr th {\n",
       "        vertical-align: top;\n",
       "    }\n",
       "\n",
       "    .dataframe thead th {\n",
       "        text-align: right;\n",
       "    }\n",
       "</style>\n",
       "<table border=\"1\" class=\"dataframe\">\n",
       "  <thead>\n",
       "    <tr style=\"text-align: right;\">\n",
       "      <th></th>\n",
       "      <th>video_id</th>\n",
       "      <th>channel_id</th>\n",
       "      <th>subscriber_count</th>\n",
       "    </tr>\n",
       "  </thead>\n",
       "  <tbody>\n",
       "    <tr>\n",
       "      <th>24</th>\n",
       "      <td>1Kcco6koC34</td>\n",
       "      <td>UCJHs6RO1CSM85e8jIMmCySw</td>\n",
       "      <td>79500</td>\n",
       "    </tr>\n",
       "    <tr>\n",
       "      <th>25</th>\n",
       "      <td>vRFVS_FNLwY</td>\n",
       "      <td>UCwhKqH0jDKm5vPOZ7WQ2R1A</td>\n",
       "      <td>69800</td>\n",
       "    </tr>\n",
       "    <tr>\n",
       "      <th>29</th>\n",
       "      <td>YwIX8w9i2DM</td>\n",
       "      <td>UCbg0ptFI3yZ4Pe5vmUiEzzA</td>\n",
       "      <td>7520</td>\n",
       "    </tr>\n",
       "    <tr>\n",
       "      <th>30</th>\n",
       "      <td>3hz-9hcf1PM</td>\n",
       "      <td>UC1uj19dZQXa17-SqNGpVNLw</td>\n",
       "      <td>32700</td>\n",
       "    </tr>\n",
       "    <tr>\n",
       "      <th>34</th>\n",
       "      <td>JNKZYhyr9Yw</td>\n",
       "      <td>UC6M7Qk2It63qD0jhiKgLWZA</td>\n",
       "      <td>37700</td>\n",
       "    </tr>\n",
       "    <tr>\n",
       "      <th>35</th>\n",
       "      <td>1OIRwL4zmp0</td>\n",
       "      <td>UCk-AjDBOodw8P40f0y6EYeA</td>\n",
       "      <td>93400</td>\n",
       "    </tr>\n",
       "    <tr>\n",
       "      <th>39</th>\n",
       "      <td>YbGAUEjTKg4</td>\n",
       "      <td>UC6OrQk8WsnCOR1OezlUU9zQ</td>\n",
       "      <td>7540</td>\n",
       "    </tr>\n",
       "    <tr>\n",
       "      <th>41</th>\n",
       "      <td>uaIUOQ47eP8</td>\n",
       "      <td>UCEq0oQsS-voRnSWbcviIDGA</td>\n",
       "      <td>8110</td>\n",
       "    </tr>\n",
       "    <tr>\n",
       "      <th>42</th>\n",
       "      <td>SPf_nINsCfw</td>\n",
       "      <td>UCGFxqqRaM97VjM5ToRfkoFg</td>\n",
       "      <td>7470</td>\n",
       "    </tr>\n",
       "    <tr>\n",
       "      <th>43</th>\n",
       "      <td>_aVJH4JBWbE</td>\n",
       "      <td>UCHcFAw2lKTuHZ04-2xlaPyQ</td>\n",
       "      <td>45000</td>\n",
       "    </tr>\n",
       "    <tr>\n",
       "      <th>44</th>\n",
       "      <td>OMZwld35T4c</td>\n",
       "      <td>UC452hry4DI_pDn_CVT9ZKhQ</td>\n",
       "      <td>81700</td>\n",
       "    </tr>\n",
       "    <tr>\n",
       "      <th>45</th>\n",
       "      <td>mWPI8vI2scQ</td>\n",
       "      <td>UCkyrFlOF7I6U-IMUxum9HrA</td>\n",
       "      <td>6350</td>\n",
       "    </tr>\n",
       "    <tr>\n",
       "      <th>47</th>\n",
       "      <td>T3meVMaV8AA</td>\n",
       "      <td>UCZjRcM1ukeciMZ7_fvzsezQ</td>\n",
       "      <td>38100</td>\n",
       "    </tr>\n",
       "    <tr>\n",
       "      <th>48</th>\n",
       "      <td>nCfAtMooIQQ</td>\n",
       "      <td>UCNste53_VRtP6MGUfitOYQA</td>\n",
       "      <td>6160</td>\n",
       "    </tr>\n",
       "    <tr>\n",
       "      <th>49</th>\n",
       "      <td>JP_ugJny9X4</td>\n",
       "      <td>UC5Kgc_HNzx4GJ-w4QMeeKiQ</td>\n",
       "      <td>42300</td>\n",
       "    </tr>\n",
       "  </tbody>\n",
       "</table>\n",
       "</div>"
      ],
      "text/plain": [
       "       video_id                channel_id  subscriber_count\n",
       "24  1Kcco6koC34  UCJHs6RO1CSM85e8jIMmCySw             79500\n",
       "25  vRFVS_FNLwY  UCwhKqH0jDKm5vPOZ7WQ2R1A             69800\n",
       "29  YwIX8w9i2DM  UCbg0ptFI3yZ4Pe5vmUiEzzA              7520\n",
       "30  3hz-9hcf1PM  UC1uj19dZQXa17-SqNGpVNLw             32700\n",
       "34  JNKZYhyr9Yw  UC6M7Qk2It63qD0jhiKgLWZA             37700\n",
       "35  1OIRwL4zmp0  UCk-AjDBOodw8P40f0y6EYeA             93400\n",
       "39  YbGAUEjTKg4  UC6OrQk8WsnCOR1OezlUU9zQ              7540\n",
       "41  uaIUOQ47eP8  UCEq0oQsS-voRnSWbcviIDGA              8110\n",
       "42  SPf_nINsCfw  UCGFxqqRaM97VjM5ToRfkoFg              7470\n",
       "43  _aVJH4JBWbE  UCHcFAw2lKTuHZ04-2xlaPyQ             45000\n",
       "44  OMZwld35T4c  UC452hry4DI_pDn_CVT9ZKhQ             81700\n",
       "45  mWPI8vI2scQ  UCkyrFlOF7I6U-IMUxum9HrA              6350\n",
       "47  T3meVMaV8AA  UCZjRcM1ukeciMZ7_fvzsezQ             38100\n",
       "48  nCfAtMooIQQ  UCNste53_VRtP6MGUfitOYQA              6160\n",
       "49  JP_ugJny9X4  UC5Kgc_HNzx4GJ-w4QMeeKiQ             42300"
      ]
     },
     "execution_count": 12,
     "metadata": {},
     "output_type": "execute_result"
    }
   ],
   "source": [
    "df_extracted = df[df['subscriber_count'] < 100000]\n",
    "df_extracted"
   ]
  },
  {
   "cell_type": "code",
   "execution_count": 13,
   "id": "d5c49df9-8556-4f5c-9d34-f344864a66e1",
   "metadata": {},
   "outputs": [],
   "source": [
    "video_ids= df_extracted['video_id'].to_list()"
   ]
  },
  {
   "cell_type": "code",
   "execution_count": 14,
   "id": "277fa285-4868-4263-9e5f-7fa795d21fc4",
   "metadata": {},
   "outputs": [],
   "source": [
    "videos_list = youtube.videos().list(\n",
    "    id = ','.join(video_ids),\n",
    "    part='snippet,statistics',\n",
    "    fields='items(id,snippet(title),statistics(viewCount))'\n",
    ").execute()"
   ]
  },
  {
   "cell_type": "code",
   "execution_count": 16,
   "id": "d0e64869-28a5-494e-9a2e-b71571e0abf2",
   "metadata": {},
   "outputs": [
    {
     "data": {
      "text/plain": [
       "[{'id': '1Kcco6koC34',\n",
       "  'snippet': {'title': 'Automate Multiple Sheet Excel Reporting - Python Automation Tutorial | Full Code Walk Through (2019)'},\n",
       "  'statistics': {'viewCount': '625263'}},\n",
       " {'id': 'vRFVS_FNLwY',\n",
       "  'snippet': {'title': '【ひろゆき】Pythonについて語るひろゆきまとめ【ひろゆき プログラミング言語 切り抜き】'},\n",
       "  'statistics': {'viewCount': '468838'}},\n",
       " {'id': 'YwIX8w9i2DM',\n",
       "  'snippet': {'title': 'Automate Excel with Python Tutorial (2020)'},\n",
       "  'statistics': {'viewCount': '273460'}}]"
      ]
     },
     "execution_count": 16,
     "metadata": {},
     "output_type": "execute_result"
    }
   ],
   "source": [
    "videos_list['items'][:3]"
   ]
  },
  {
   "cell_type": "code",
   "execution_count": 22,
   "id": "84796038-0bdd-483e-b1a0-8ca44cb5edde",
   "metadata": {},
   "outputs": [],
   "source": [
    "items = videos_list['items']\n",
    "videos_info = []\n",
    "for item in items:\n",
    "    video_info = {}\n",
    "    video_info['video_id'] = item['id']\n",
    "    video_info['title'] = item['snippet']['title']\n",
    "    video_info['view_count'] = item['statistics']['viewCount']\n",
    "    videos_info.append(video_info)\n",
    "\n",
    "df_videos_info = pd.DataFrame(videos_info)\n"
   ]
  },
  {
   "cell_type": "code",
   "execution_count": 23,
   "id": "e4cafbd2-1d30-48ff-aca3-07dbb5963f81",
   "metadata": {},
   "outputs": [
    {
     "data": {
      "text/html": [
       "<div>\n",
       "<style scoped>\n",
       "    .dataframe tbody tr th:only-of-type {\n",
       "        vertical-align: middle;\n",
       "    }\n",
       "\n",
       "    .dataframe tbody tr th {\n",
       "        vertical-align: top;\n",
       "    }\n",
       "\n",
       "    .dataframe thead th {\n",
       "        text-align: right;\n",
       "    }\n",
       "</style>\n",
       "<table border=\"1\" class=\"dataframe\">\n",
       "  <thead>\n",
       "    <tr style=\"text-align: right;\">\n",
       "      <th></th>\n",
       "      <th>video_id</th>\n",
       "      <th>title</th>\n",
       "      <th>view_count</th>\n",
       "    </tr>\n",
       "  </thead>\n",
       "  <tbody>\n",
       "    <tr>\n",
       "      <th>0</th>\n",
       "      <td>1Kcco6koC34</td>\n",
       "      <td>Automate Multiple Sheet Excel Reporting - Pyth...</td>\n",
       "      <td>625263</td>\n",
       "    </tr>\n",
       "    <tr>\n",
       "      <th>1</th>\n",
       "      <td>vRFVS_FNLwY</td>\n",
       "      <td>【ひろゆき】Pythonについて語るひろゆきまとめ【ひろゆき プログラミング言語 切り抜き】</td>\n",
       "      <td>468838</td>\n",
       "    </tr>\n",
       "    <tr>\n",
       "      <th>2</th>\n",
       "      <td>YwIX8w9i2DM</td>\n",
       "      <td>Automate Excel with Python Tutorial (2020)</td>\n",
       "      <td>273460</td>\n",
       "    </tr>\n",
       "  </tbody>\n",
       "</table>\n",
       "</div>"
      ],
      "text/plain": [
       "      video_id                                              title view_count\n",
       "0  1Kcco6koC34  Automate Multiple Sheet Excel Reporting - Pyth...     625263\n",
       "1  vRFVS_FNLwY     【ひろゆき】Pythonについて語るひろゆきまとめ【ひろゆき プログラミング言語 切り抜き】     468838\n",
       "2  YwIX8w9i2DM         Automate Excel with Python Tutorial (2020)     273460"
      ]
     },
     "execution_count": 23,
     "metadata": {},
     "output_type": "execute_result"
    }
   ],
   "source": [
    "df_videos_info[:3]"
   ]
  },
  {
   "cell_type": "code",
   "execution_count": 24,
   "id": "7b1f4c9a-1609-4cd8-9aef-0e6f579125e7",
   "metadata": {},
   "outputs": [
    {
     "data": {
      "text/html": [
       "<div>\n",
       "<style scoped>\n",
       "    .dataframe tbody tr th:only-of-type {\n",
       "        vertical-align: middle;\n",
       "    }\n",
       "\n",
       "    .dataframe tbody tr th {\n",
       "        vertical-align: top;\n",
       "    }\n",
       "\n",
       "    .dataframe thead th {\n",
       "        text-align: right;\n",
       "    }\n",
       "</style>\n",
       "<table border=\"1\" class=\"dataframe\">\n",
       "  <thead>\n",
       "    <tr style=\"text-align: right;\">\n",
       "      <th></th>\n",
       "      <th>video_id</th>\n",
       "      <th>channel_id</th>\n",
       "      <th>subscriber_count</th>\n",
       "      <th>title</th>\n",
       "      <th>view_count</th>\n",
       "    </tr>\n",
       "  </thead>\n",
       "  <tbody>\n",
       "    <tr>\n",
       "      <th>0</th>\n",
       "      <td>1Kcco6koC34</td>\n",
       "      <td>UCJHs6RO1CSM85e8jIMmCySw</td>\n",
       "      <td>79500</td>\n",
       "      <td>Automate Multiple Sheet Excel Reporting - Pyth...</td>\n",
       "      <td>625263</td>\n",
       "    </tr>\n",
       "    <tr>\n",
       "      <th>1</th>\n",
       "      <td>vRFVS_FNLwY</td>\n",
       "      <td>UCwhKqH0jDKm5vPOZ7WQ2R1A</td>\n",
       "      <td>69800</td>\n",
       "      <td>【ひろゆき】Pythonについて語るひろゆきまとめ【ひろゆき プログラミング言語 切り抜き】</td>\n",
       "      <td>468838</td>\n",
       "    </tr>\n",
       "    <tr>\n",
       "      <th>2</th>\n",
       "      <td>YwIX8w9i2DM</td>\n",
       "      <td>UCbg0ptFI3yZ4Pe5vmUiEzzA</td>\n",
       "      <td>7520</td>\n",
       "      <td>Automate Excel with Python Tutorial (2020)</td>\n",
       "      <td>273460</td>\n",
       "    </tr>\n",
       "  </tbody>\n",
       "</table>\n",
       "</div>"
      ],
      "text/plain": [
       "      video_id                channel_id  subscriber_count  \\\n",
       "0  1Kcco6koC34  UCJHs6RO1CSM85e8jIMmCySw             79500   \n",
       "1  vRFVS_FNLwY  UCwhKqH0jDKm5vPOZ7WQ2R1A             69800   \n",
       "2  YwIX8w9i2DM  UCbg0ptFI3yZ4Pe5vmUiEzzA              7520   \n",
       "\n",
       "                                               title view_count  \n",
       "0  Automate Multiple Sheet Excel Reporting - Pyth...     625263  \n",
       "1     【ひろゆき】Pythonについて語るひろゆきまとめ【ひろゆき プログラミング言語 切り抜き】     468838  \n",
       "2         Automate Excel with Python Tutorial (2020)     273460  "
      ]
     },
     "execution_count": 24,
     "metadata": {},
     "output_type": "execute_result"
    }
   ],
   "source": [
    "results = pd.merge(left=df_extracted, right=df_videos_info, on='video_id')\n",
    "results[:3]"
   ]
  },
  {
   "cell_type": "code",
   "execution_count": 25,
   "id": "5a7838e0-424c-424e-9f0c-1e8db7ed4882",
   "metadata": {},
   "outputs": [],
   "source": [
    "results = results.loc[:,['video_id','title','view_count','subscriber_count','channel_id']]"
   ]
  },
  {
   "cell_type": "code",
   "execution_count": 26,
   "id": "2dd177c8-fbea-4876-91b1-d3258ac1f399",
   "metadata": {},
   "outputs": [
    {
     "data": {
      "text/html": [
       "<div>\n",
       "<style scoped>\n",
       "    .dataframe tbody tr th:only-of-type {\n",
       "        vertical-align: middle;\n",
       "    }\n",
       "\n",
       "    .dataframe tbody tr th {\n",
       "        vertical-align: top;\n",
       "    }\n",
       "\n",
       "    .dataframe thead th {\n",
       "        text-align: right;\n",
       "    }\n",
       "</style>\n",
       "<table border=\"1\" class=\"dataframe\">\n",
       "  <thead>\n",
       "    <tr style=\"text-align: right;\">\n",
       "      <th></th>\n",
       "      <th>video_id</th>\n",
       "      <th>title</th>\n",
       "      <th>view_count</th>\n",
       "      <th>subscriber_count</th>\n",
       "      <th>channel_id</th>\n",
       "    </tr>\n",
       "  </thead>\n",
       "  <tbody>\n",
       "    <tr>\n",
       "      <th>0</th>\n",
       "      <td>1Kcco6koC34</td>\n",
       "      <td>Automate Multiple Sheet Excel Reporting - Pyth...</td>\n",
       "      <td>625263</td>\n",
       "      <td>79500</td>\n",
       "      <td>UCJHs6RO1CSM85e8jIMmCySw</td>\n",
       "    </tr>\n",
       "    <tr>\n",
       "      <th>1</th>\n",
       "      <td>vRFVS_FNLwY</td>\n",
       "      <td>【ひろゆき】Pythonについて語るひろゆきまとめ【ひろゆき プログラミング言語 切り抜き】</td>\n",
       "      <td>468838</td>\n",
       "      <td>69800</td>\n",
       "      <td>UCwhKqH0jDKm5vPOZ7WQ2R1A</td>\n",
       "    </tr>\n",
       "    <tr>\n",
       "      <th>2</th>\n",
       "      <td>YwIX8w9i2DM</td>\n",
       "      <td>Automate Excel with Python Tutorial (2020)</td>\n",
       "      <td>273460</td>\n",
       "      <td>7520</td>\n",
       "      <td>UCbg0ptFI3yZ4Pe5vmUiEzzA</td>\n",
       "    </tr>\n",
       "  </tbody>\n",
       "</table>\n",
       "</div>"
      ],
      "text/plain": [
       "      video_id                                              title view_count  \\\n",
       "0  1Kcco6koC34  Automate Multiple Sheet Excel Reporting - Pyth...     625263   \n",
       "1  vRFVS_FNLwY     【ひろゆき】Pythonについて語るひろゆきまとめ【ひろゆき プログラミング言語 切り抜き】     468838   \n",
       "2  YwIX8w9i2DM         Automate Excel with Python Tutorial (2020)     273460   \n",
       "\n",
       "   subscriber_count                channel_id  \n",
       "0             79500  UCJHs6RO1CSM85e8jIMmCySw  \n",
       "1             69800  UCwhKqH0jDKm5vPOZ7WQ2R1A  \n",
       "2              7520  UCbg0ptFI3yZ4Pe5vmUiEzzA  "
      ]
     },
     "execution_count": 26,
     "metadata": {},
     "output_type": "execute_result"
    }
   ],
   "source": [
    "results[:3]"
   ]
  },
  {
   "cell_type": "code",
   "execution_count": null,
   "id": "f2d9821c-3887-441b-bd69-2a39af85e0eb",
   "metadata": {},
   "outputs": [],
   "source": []
  },
  {
   "cell_type": "code",
   "execution_count": 50,
   "id": "71116c0f-d532-4f64-b8d1-9398377552a8",
   "metadata": {},
   "outputs": [],
   "source": [
    "def get_results(df_video,threshold=5000):\n",
    "    channel_ids = df_video['channel_id'].unique().tolist()\n",
    "\n",
    "    subscriber_list = youtube.channels().list(\n",
    "        id = ','.join(channel_ids),\n",
    "        part='statistics',\n",
    "        fields='items(id,statistics(subscriberCount))'\n",
    "    ).execute()\n",
    "\n",
    "    subscribers = []\n",
    "    for item in subscriber_list['items']:\n",
    "        subscriber = {}\n",
    "        subscriber['channel_id'] = item['id']\n",
    "        if len(item['statistics']) > 0:\n",
    "            subscriber['subscriber_count'] = int(item['statistics']['subscriberCount'])\n",
    "        else:\n",
    "            subscriber['channel_id'] = item['id']\n",
    "        subscribers.append(subscriber)\n",
    "    df_subscribers = pd.DataFrame(subscribers)\n",
    "\n",
    "    df = pd.merge(left=df_video, right=df_subscribers, on='channel_id')\n",
    "    df_extracted = df[df['subscriber_count'] < threshold]\n",
    "\n",
    "    video_ids= df_extracted['video_id'].to_list()\n",
    "    videos_list = youtube.videos().list(\n",
    "        id = ','.join(video_ids),\n",
    "        part='snippet,statistics',\n",
    "        fields='items(id,snippet(title),statistics(viewCount))'\n",
    "    ).execute()\n",
    "\n",
    "    items = videos_list['items']\n",
    "    videos_infos = []\n",
    "    for item in items:\n",
    "        video_info = {}\n",
    "        video_info['video_id'] = item['id']\n",
    "        video_info['title'] = item['snippet']['title']\n",
    "        video_info['view_count'] = item['statistics']['viewCount']\n",
    "        videos_infos.append(video_info)\n",
    "    df_videos_info = pd.DataFrame(videos_infos)\n",
    "\n",
    "    results = pd.merge(left=df_extracted, right=df_videos_info, on='video_id')\n",
    "    results = results.loc[:,['video_id','title','view_count','subscriber_count','channel_id']]\n",
    "    \n",
    "    return results"
   ]
  },
  {
   "cell_type": "code",
   "execution_count": 51,
   "id": "54304aa7-ca0e-4e0d-a706-704c8af0bd4e",
   "metadata": {},
   "outputs": [
    {
     "data": {
      "text/html": [
       "<div>\n",
       "<style scoped>\n",
       "    .dataframe tbody tr th:only-of-type {\n",
       "        vertical-align: middle;\n",
       "    }\n",
       "\n",
       "    .dataframe tbody tr th {\n",
       "        vertical-align: top;\n",
       "    }\n",
       "\n",
       "    .dataframe thead th {\n",
       "        text-align: right;\n",
       "    }\n",
       "</style>\n",
       "<table border=\"1\" class=\"dataframe\">\n",
       "  <thead>\n",
       "    <tr style=\"text-align: right;\">\n",
       "      <th></th>\n",
       "      <th>video_id</th>\n",
       "      <th>title</th>\n",
       "      <th>view_count</th>\n",
       "      <th>subscriber_count</th>\n",
       "      <th>channel_id</th>\n",
       "    </tr>\n",
       "  </thead>\n",
       "  <tbody>\n",
       "    <tr>\n",
       "      <th>0</th>\n",
       "      <td>YwIX8w9i2DM</td>\n",
       "      <td>Automate Excel with Python Tutorial (2020)</td>\n",
       "      <td>273462</td>\n",
       "      <td>7520</td>\n",
       "      <td>UCbg0ptFI3yZ4Pe5vmUiEzzA</td>\n",
       "    </tr>\n",
       "    <tr>\n",
       "      <th>1</th>\n",
       "      <td>YbGAUEjTKg4</td>\n",
       "      <td>Web Automation using Python To Fill out A Form</td>\n",
       "      <td>114223</td>\n",
       "      <td>7540</td>\n",
       "      <td>UC6OrQk8WsnCOR1OezlUU9zQ</td>\n",
       "    </tr>\n",
       "    <tr>\n",
       "      <th>2</th>\n",
       "      <td>uaIUOQ47eP8</td>\n",
       "      <td>Google IT Automation with Python Professional ...</td>\n",
       "      <td>86262</td>\n",
       "      <td>8110</td>\n",
       "      <td>UCEq0oQsS-voRnSWbcviIDGA</td>\n",
       "    </tr>\n",
       "    <tr>\n",
       "      <th>3</th>\n",
       "      <td>SPf_nINsCfw</td>\n",
       "      <td>Pythonで業務自動化(Excel,Outlook等)したいならこの本で決定</td>\n",
       "      <td>79179</td>\n",
       "      <td>7470</td>\n",
       "      <td>UCGFxqqRaM97VjM5ToRfkoFg</td>\n",
       "    </tr>\n",
       "    <tr>\n",
       "      <th>4</th>\n",
       "      <td>mWPI8vI2scQ</td>\n",
       "      <td>[效率提升] 3分钟做完一天的工作?普通人也可以轻松学会的自动化办公技巧</td>\n",
       "      <td>46183</td>\n",
       "      <td>6350</td>\n",
       "      <td>UCkyrFlOF7I6U-IMUxum9HrA</td>\n",
       "    </tr>\n",
       "    <tr>\n",
       "      <th>5</th>\n",
       "      <td>nCfAtMooIQQ</td>\n",
       "      <td>その面倒な作業、自動化してみない？【Pythonで自動化のすすめ】</td>\n",
       "      <td>39374</td>\n",
       "      <td>6160</td>\n",
       "      <td>UCNste53_VRtP6MGUfitOYQA</td>\n",
       "    </tr>\n",
       "  </tbody>\n",
       "</table>\n",
       "</div>"
      ],
      "text/plain": [
       "      video_id                                              title view_count  \\\n",
       "0  YwIX8w9i2DM         Automate Excel with Python Tutorial (2020)     273462   \n",
       "1  YbGAUEjTKg4     Web Automation using Python To Fill out A Form     114223   \n",
       "2  uaIUOQ47eP8  Google IT Automation with Python Professional ...      86262   \n",
       "3  SPf_nINsCfw            Pythonで業務自動化(Excel,Outlook等)したいならこの本で決定      79179   \n",
       "4  mWPI8vI2scQ               [效率提升] 3分钟做完一天的工作?普通人也可以轻松学会的自动化办公技巧      46183   \n",
       "5  nCfAtMooIQQ                  その面倒な作業、自動化してみない？【Pythonで自動化のすすめ】      39374   \n",
       "\n",
       "   subscriber_count                channel_id  \n",
       "0              7520  UCbg0ptFI3yZ4Pe5vmUiEzzA  \n",
       "1              7540  UC6OrQk8WsnCOR1OezlUU9zQ  \n",
       "2              8110  UCEq0oQsS-voRnSWbcviIDGA  \n",
       "3              7470  UCGFxqqRaM97VjM5ToRfkoFg  \n",
       "4              6350  UCkyrFlOF7I6U-IMUxum9HrA  \n",
       "5              6160  UCNste53_VRtP6MGUfitOYQA  "
      ]
     },
     "execution_count": 51,
     "metadata": {},
     "output_type": "execute_result"
    }
   ],
   "source": [
    "df_video = video_search(youtube, q = 'Python 自動化', max_results=50)\n",
    "get_results(df_video,threshold=10000)"
   ]
  },
  {
   "cell_type": "code",
   "execution_count": null,
   "id": "f23dc45a-bb02-4f22-adf3-dae6b32ec55c",
   "metadata": {},
   "outputs": [],
   "source": []
  }
 ],
 "metadata": {
  "kernelspec": {
   "display_name": "Python 3 (ipykernel)",
   "language": "python",
   "name": "python3"
  },
  "language_info": {
   "codemirror_mode": {
    "name": "ipython",
    "version": 3
   },
   "file_extension": ".py",
   "mimetype": "text/x-python",
   "name": "python",
   "nbconvert_exporter": "python",
   "pygments_lexer": "ipython3",
   "version": "3.10.8"
  }
 },
 "nbformat": 4,
 "nbformat_minor": 5
}
